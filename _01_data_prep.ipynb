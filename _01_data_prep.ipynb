{
 "cells": [
  {
   "cell_type": "code",
   "execution_count": null,
   "metadata": {},
   "outputs": [],
   "source": [
    "import os\n",
    "import pandas as pd\n",
    "\n",
    "# Working Dir.\n",
    "os.chdir('/Users/fogellmcmuffin/Documents/ra/team_discussions/AI/')"
   ]
  },
  {
   "cell_type": "code",
   "execution_count": null,
   "metadata": {},
   "outputs": [],
   "source": [
    "########################\n",
    "## Trim uncoded files ##\n",
    "########################\n",
    "\n",
    "# Importing raw data\n",
    "no_noise = pd.read_csv('raw_data/no_noise.csv')\n",
    "noise = pd.read_csv('raw_data/noise.csv')\n",
    "\n",
    "# Importing summary data\n",
    "version = '3'\n",
    "ra_noise = pd.read_csv(f'raw_data/RAsum_noise_v{version}.csv')\n",
    "ra_no_noise = pd.read_csv(f'raw_data/RAsum_no_noise_v{version}.csv')\n",
    "\n",
    "\n",
    "# Function to trim cols and data to only cooperate & defect windows\n",
    "def trim(df, cols):\n",
    "    df = df.drop(cols, axis=1)\n",
    "    df = df.loc[(df['window_ucoop'] == 1) | (df['window_udef'] == 1)]\n",
    "    return df\n",
    "\n",
    "\n",
    "# Dropping columns & trimming 'noise' & 'no_noise' dfs\n",
    "common_drops = ['original_subject', 'super_game_match', 'time_message', 'Unnamed: 0']   # Columns to drop\n",
    "noise = trim(noise, common_drops)\n",
    "no_noise = trim(no_noise, common_drops + ['critical']) # Also dropping 'critical' column\n",
    "\n",
    "# Creating merge df using 'noise' & 'no_noise' dfs\n",
    "no_noise['treatment'] = 0\n",
    "noise['treatment'] = 1\n",
    "merged = pd.concat([no_noise, noise], ignore_index=True, sort=False)\n",
    "\n",
    "# Trimming columns RA summary data\n",
    "keep_columns = ['summary', 'window_number', 'unilateral_cooperate', 'unilateral_defect']\n",
    "ra_noise = ra_noise[keep_columns]\n",
    "ra_no_noise = ra_no_noise[keep_columns]\n",
    "\n",
    "# Creating merge df for RA summaries\n",
    "ra_merged = pd.concat([ra_no_noise, ra_noise], ignore_index=True, sort=False)\n",
    "\n",
    "# Export\n",
    "no_noise.to_csv('trim_data/no_noise.csv')\n",
    "noise.to_csv('trim_data/noise.csv')\n",
    "merged.to_csv('trim_data/merged.csv')\n",
    "\n",
    "ra_no_noise.to_csv(f'trim_data/RAsum_no_noise_v{version}.csv')\n",
    "ra_noise.to_csv(f'trim_data/RAsum_noise_v{version}.csv')\n",
    "ra_merged.to_csv(f'trim_data/RAsum_merged_v{version}.csv')"
   ]
  },
  {
   "cell_type": "code",
   "execution_count": null,
   "metadata": {},
   "outputs": [],
   "source": []
  }
 ],
 "metadata": {
  "kernelspec": {
   "display_name": "statistical_coding",
   "language": "python",
   "name": "python3"
  },
  "language_info": {
   "codemirror_mode": {
    "name": "ipython",
    "version": 3
   },
   "file_extension": ".py",
   "mimetype": "text/x-python",
   "name": "python",
   "nbconvert_exporter": "python",
   "pygments_lexer": "ipython3",
   "version": "3.12.4"
  }
 },
 "nbformat": 4,
 "nbformat_minor": 2
}
